{
 "cells": [
  {
   "cell_type": "code",
   "id": "initial_id",
   "metadata": {
    "collapsed": true,
    "ExecuteTime": {
     "end_time": "2025-01-05T07:04:48.878365Z",
     "start_time": "2025-01-05T07:04:43.822208Z"
    }
   },
   "source": [
    "\n",
    "from util.dataProcess import match_data\n",
    "match_data(\"/Users/wuxi/Desktop/workspace/Beach/data/all.xlsx\",\"/Users/wuxi/Desktop/workspace/Beach/data/无海堤/test.xlsx\",\"/Users/wuxi/Desktop/workspace/Beach/beach/Dataset/无海堤/test_regression.xlsx\")\n",
    "match_data(\"/Users/wuxi/Desktop/workspace/Beach/data/all.xlsx\",\"/Users/wuxi/Desktop/workspace/Beach/data/无海堤/train.xlsx\",\"/Users/wuxi/Desktop/workspace/Beach/beach/Dataset/无海堤/train_regression.xlsx\")\n",
    "match_data(\"/Users/wuxi/Desktop/workspace/Beach/data/all.xlsx\",\"/Users/wuxi/Desktop/workspace/Beach/data/有海堤/test.xlsx\",\"/Users/wuxi/Desktop/workspace/Beach/beach/Dataset/有海堤/test_regression.xlsx\")\n",
    "match_data(\"/Users/wuxi/Desktop/workspace/Beach/data/all.xlsx\",\"/Users/wuxi/Desktop/workspace/Beach/data/有海堤/train.xlsx\",\"/Users/wuxi/Desktop/workspace/Beach/beach/Dataset/有海堤/train_regression.xlsx\")"
   ],
   "outputs": [
    {
     "name": "stdout",
     "output_type": "stream",
     "text": [
      "匹配的行已保存到 /Users/wuxi/Desktop/workspace/Beach/beach/Dataset/无海堤/test_regression.xlsx\n",
      "匹配的行已保存到 /Users/wuxi/Desktop/workspace/Beach/beach/Dataset/无海堤/train_regression.xlsx\n",
      "匹配的行已保存到 /Users/wuxi/Desktop/workspace/Beach/beach/Dataset/有海堤/test_regression.xlsx\n",
      "匹配的行已保存到 /Users/wuxi/Desktop/workspace/Beach/beach/Dataset/有海堤/train_regression.xlsx\n"
     ]
    }
   ],
   "execution_count": 7
  },
  {
   "metadata": {
    "ExecuteTime": {
     "end_time": "2025-01-06T09:20:33.509131Z",
     "start_time": "2025-01-06T09:20:32.155660Z"
    }
   },
   "cell_type": "code",
   "source": [
    "from util.dataProcess import standardize_data\n",
    "\n",
    "standardize_data(\"/Users/wuxi/Desktop/workspace/Beach/beach/Dataset/无海堤/val.xlsx\",\"/Users/wuxi/Desktop/workspace/Beach/beach/Dataset/无海堤/standard_val.xlsx\")\n",
    "standardize_data(\"/Users/wuxi/Desktop/workspace/Beach/beach/Dataset/无海堤/train.xlsx\",\"/Users/wuxi/Desktop/workspace/Beach/beach/Dataset/无海堤/standard_train.xlsx\")\n",
    "standardize_data(\"/Users/wuxi/Desktop/workspace/Beach/beach/Dataset/有海堤/val.xlsx\",\"/Users/wuxi/Desktop/workspace/Beach/beach/Dataset/有海堤/standard_val.xlsx\")\n",
    "standardize_data(\"/Users/wuxi/Desktop/workspace/Beach/beach/Dataset/有海堤/train.xlsx\",\"/Users/wuxi/Desktop/workspace/Beach/beach/Dataset/有海堤/standard_train.xlsx\")"
   ],
   "id": "5e01d7058d8ec52a",
   "outputs": [
    {
     "name": "stderr",
     "output_type": "stream",
     "text": [
      "/Users/wuxi/Desktop/workspace/Beach/beach/util/dataProcess.py:71: FutureWarning: Setting an item of incompatible dtype is deprecated and will raise in a future error of pandas. Value '0     -0.387782\n",
      "1     -0.387782\n",
      "2     -0.387782\n",
      "3     -0.387782\n",
      "4     -0.387782\n",
      "         ...   \n",
      "659   -0.970535\n",
      "660   -0.970535\n",
      "661   -0.970535\n",
      "662   -0.970535\n",
      "663   -0.970535\n",
      "Name: Azimuth, Length: 664, dtype: float64' has dtype incompatible with int64, please explicitly cast to a compatible dtype first.\n",
      "  df.iloc[:, 3] = np.sin(df.iloc[:, 3])  # 第4列取sin\n",
      "/Users/wuxi/Desktop/workspace/Beach/beach/util/dataProcess.py:72: FutureWarning: Setting an item of incompatible dtype is deprecated and will raise in a future error of pandas. Value '0      0.745113\n",
      "1      0.745113\n",
      "2      0.745113\n",
      "3      0.745113\n",
      "4      0.745113\n",
      "         ...   \n",
      "659   -0.387782\n",
      "660   -0.387782\n",
      "661   -0.387782\n",
      "662   -0.387782\n",
      "663   -0.387782\n",
      "Name: waveDirection, Length: 664, dtype: float64' has dtype incompatible with int64, please explicitly cast to a compatible dtype first.\n",
      "  df.iloc[:, 13] = np.sin(df.iloc[:, 13])  # 第14列取sin\n",
      "/Users/wuxi/Desktop/workspace/Beach/beach/util/dataProcess.py:71: FutureWarning: Setting an item of incompatible dtype is deprecated and will raise in a future error of pandas. Value '0       0.467745\n",
      "1       0.467745\n",
      "2       0.467745\n",
      "3       0.467745\n",
      "4       0.467745\n",
      "          ...   \n",
      "1479    0.053084\n",
      "1480    0.053084\n",
      "1481    0.053084\n",
      "1482    0.053084\n",
      "1483    0.053084\n",
      "Name: Azimuth, Length: 1484, dtype: float64' has dtype incompatible with int64, please explicitly cast to a compatible dtype first.\n",
      "  df.iloc[:, 3] = np.sin(df.iloc[:, 3])  # 第4列取sin\n",
      "/Users/wuxi/Desktop/workspace/Beach/beach/util/dataProcess.py:72: FutureWarning: Setting an item of incompatible dtype is deprecated and will raise in a future error of pandas. Value '0      -0.262375\n",
      "1      -0.262375\n",
      "2      -0.262375\n",
      "3      -0.262375\n",
      "4      -0.262375\n",
      "          ...   \n",
      "1479   -0.387782\n",
      "1480   -0.387782\n",
      "1481   -0.387782\n",
      "1482   -0.387782\n",
      "1483   -0.387782\n",
      "Name: waveDirection, Length: 1484, dtype: float64' has dtype incompatible with int64, please explicitly cast to a compatible dtype first.\n",
      "  df.iloc[:, 13] = np.sin(df.iloc[:, 13])  # 第14列取sin\n"
     ]
    },
    {
     "name": "stdout",
     "output_type": "stream",
     "text": [
      "处理后的数据已保存到/Users/wuxi/Desktop/workspace/Beach/beach/Dataset/无海堤/standard_val.xlsx\n",
      "处理后的数据已保存到/Users/wuxi/Desktop/workspace/Beach/beach/Dataset/无海堤/standard_train.xlsx\n",
      "处理后的数据已保存到/Users/wuxi/Desktop/workspace/Beach/beach/Dataset/有海堤/standard_val.xlsx\n"
     ]
    },
    {
     "name": "stderr",
     "output_type": "stream",
     "text": [
      "/Users/wuxi/Desktop/workspace/Beach/beach/util/dataProcess.py:71: FutureWarning: Setting an item of incompatible dtype is deprecated and will raise in a future error of pandas. Value '0     -0.228052\n",
      "1     -0.228052\n",
      "2     -0.228052\n",
      "3     -0.228052\n",
      "4     -0.228052\n",
      "         ...   \n",
      "912   -0.881785\n",
      "913   -0.881785\n",
      "914   -0.881785\n",
      "915   -0.881785\n",
      "916   -0.881785\n",
      "Name: Azimuth, Length: 917, dtype: float64' has dtype incompatible with int64, please explicitly cast to a compatible dtype first.\n",
      "  df.iloc[:, 3] = np.sin(df.iloc[:, 3])  # 第4列取sin\n",
      "/Users/wuxi/Desktop/workspace/Beach/beach/util/dataProcess.py:72: FutureWarning: Setting an item of incompatible dtype is deprecated and will raise in a future error of pandas. Value '0      0.167356\n",
      "1      0.167356\n",
      "2      0.167356\n",
      "3      0.167356\n",
      "4      0.167356\n",
      "         ...   \n",
      "912   -0.948282\n",
      "913   -0.948282\n",
      "914   -0.948282\n",
      "915   -0.948282\n",
      "916   -0.948282\n",
      "Name: waveDirection, Length: 917, dtype: float64' has dtype incompatible with int64, please explicitly cast to a compatible dtype first.\n",
      "  df.iloc[:, 13] = np.sin(df.iloc[:, 13])  # 第14列取sin\n"
     ]
    },
    {
     "name": "stdout",
     "output_type": "stream",
     "text": [
      "处理后的数据已保存到/Users/wuxi/Desktop/workspace/Beach/beach/Dataset/有海堤/standard_train.xlsx\n"
     ]
    },
    {
     "name": "stderr",
     "output_type": "stream",
     "text": [
      "/Users/wuxi/Desktop/workspace/Beach/beach/util/dataProcess.py:71: FutureWarning: Setting an item of incompatible dtype is deprecated and will raise in a future error of pandas. Value '0      -0.864536\n",
      "1      -0.864536\n",
      "2      -0.864536\n",
      "3      -0.864536\n",
      "4      -0.864536\n",
      "          ...   \n",
      "1812    0.088369\n",
      "1813    0.088369\n",
      "1814    0.088369\n",
      "1815    0.088369\n",
      "1816    0.088369\n",
      "Name: Azimuth, Length: 1817, dtype: float64' has dtype incompatible with int64, please explicitly cast to a compatible dtype first.\n",
      "  df.iloc[:, 3] = np.sin(df.iloc[:, 3])  # 第4列取sin\n",
      "/Users/wuxi/Desktop/workspace/Beach/beach/util/dataProcess.py:72: FutureWarning: Setting an item of incompatible dtype is deprecated and will raise in a future error of pandas. Value '0      -0.114785\n",
      "1      -0.114785\n",
      "2      -0.114785\n",
      "3      -0.114785\n",
      "4      -0.114785\n",
      "          ...   \n",
      "1812   -0.948282\n",
      "1813   -0.948282\n",
      "1814   -0.948282\n",
      "1815   -0.948282\n",
      "1816   -0.948282\n",
      "Name: waveDirection, Length: 1817, dtype: float64' has dtype incompatible with int64, please explicitly cast to a compatible dtype first.\n",
      "  df.iloc[:, 13] = np.sin(df.iloc[:, 13])  # 第14列取sin\n"
     ]
    }
   ],
   "execution_count": 1
  },
  {
   "metadata": {
    "ExecuteTime": {
     "end_time": "2025-01-05T07:05:17.478904Z",
     "start_time": "2025-01-05T07:05:17.303204Z"
    }
   },
   "cell_type": "code",
   "source": [
    "import pandas as pd\n",
    "\n",
    "# 读取Excel文件\n",
    "file_path = '/Users/wuxi/Desktop/workspace/Beach/beach/Dataset/无海堤/test_regression.xlsx'  # 将此路径替换为你的Excel文件路径\n",
    "df = pd.read_excel(file_path)\n",
    "# 遍历DataFrame并应用逻辑\n",
    "for i in range(len(df)):\n",
    "    if i == 0:\n",
    "        # 对于第一行，直接从Y列获取值\n",
    "        df.at[i, 'H'] = df.at[i, 'y']\n",
    "    else:\n",
    "        # 对于后续行，检查W列的值是否与上一行不同\n",
    "        if df.at[i, 'Length'] != df.at[i - 1, 'Length'] or df.at[i, 'Azimuth'] != df.at[i - 1, 'Azimuth']:\n",
    "            df.at[i, 'H'] = df.at[i, 'y']\n",
    "        else:\n",
    "            df.at[i, 'H'] = df.at[i - 1, 'H']\n",
    "\n",
    "# 保存修改后的DataFrame到新的Excel文件\n",
    "output_file_path = '/Users/wuxi/Desktop/workspace/Beach/beach/Dataset/无海堤/val.xlsx'  # 指定输出文件路径\n",
    "df.to_excel(output_file_path, index=False)"
   ],
   "id": "24f55add03f5345b",
   "outputs": [],
   "execution_count": 9
  },
  {
   "metadata": {
    "ExecuteTime": {
     "end_time": "2025-02-26T10:51:13.321197Z",
     "start_time": "2025-02-26T10:51:13.176755Z"
    }
   },
   "cell_type": "code",
   "source": [
    "import os\n",
    "import pandas as pd\n",
    "\n",
    "def merge_xlsx_files(folder_path, output_file):\n",
    "    \"\"\"\n",
    "    合并同格式xlsx文件\n",
    "\n",
    "    参数：\n",
    "    folder_path : str - 源文件夹路径\n",
    "    output_file : str - 输出文件名\n",
    "\n",
    "    示例：\n",
    "    merge_xlsx_files('data_files', 'combined.xlsx')\n",
    "    \"\"\"\n",
    "    # 获取所有xlsx文件\n",
    "    files = [\n",
    "        os.path.join(folder_path, f)\n",
    "        for f in os.listdir(folder_path)\n",
    "        if f.endswith('.xlsx')\n",
    "    ]\n",
    "\n",
    "    if not files:\n",
    "        raise FileNotFoundError(\"未找到xlsx文件\")\n",
    "\n",
    "    # 读取并合并数据\n",
    "    dfs = [pd.read_excel(f, engine='openpyxl') for f in files]\n",
    "    combined_df = pd.concat(dfs, ignore_index=True)\n",
    "\n",
    "    # 保存结果\n",
    "    combined_df.to_excel(output_file, index=False, engine='openpyxl')\n",
    "\n",
    "# 使用示例\n",
    "# merge_xlsx_files(\"../Dataset/5_fold_cross_validation/1st/train\", \"../Dataset/5_fold_cross_validation/1st/train.xlsx\")\n",
    "# merge_xlsx_files(\"../Dataset/5_fold_cross_validation/1st/val\", \"../Dataset/5_fold_cross_validation/1st/val.xlsx\")\n",
    "# merge_xlsx_files(\"../Dataset/5_fold_cross_validation/2nd/train\", \"../Dataset/5_fold_cross_validation/2nd/train.xlsx\")\n",
    "# merge_xlsx_files(\"../Dataset/5_fold_cross_validation/2nd/val\", \"../Dataset/5_fold_cross_validation/2nd/val.xlsx\")\n",
    "# merge_xlsx_files(\"../Dataset/5_fold_cross_validation/3rd/train\", \"../Dataset/5_fold_cross_validation/3rd/train.xlsx\")\n",
    "# merge_xlsx_files(\"../Dataset/5_fold_cross_validation/3rd/val\", \"../Dataset/5_fold_cross_validation/3rd/val.xlsx\")\n",
    "# merge_xlsx_files(\"../Dataset/5_fold_cross_validation/4th/train\", \"../Dataset/5_fold_cross_validation/4th/train.xlsx\")\n",
    "# merge_xlsx_files(\"../Dataset/5_fold_cross_validation/4th/val\", \"../Dataset/5_fold_cross_validation/4th/val.xlsx\")\n",
    "# merge_xlsx_files(\"../Dataset/5_fold_cross_validation/5th/train\", \"../Dataset/5_fold_cross_validation/5th/train.xlsx\")\n",
    "# merge_xlsx_files(\"../Dataset/5_fold_cross_validation/5th/val\", \"../Dataset/5_fold_cross_validation/5th/val.xlsx\")\n",
    "merge_xlsx_files(\"../Dataset/test\", \"../Dataset/test.xlsx\")"
   ],
   "id": "14db338b8c5286ab",
   "outputs": [],
   "execution_count": 3
  }
 ],
 "metadata": {
  "kernelspec": {
   "display_name": "Python 3",
   "language": "python",
   "name": "python3"
  },
  "language_info": {
   "codemirror_mode": {
    "name": "ipython",
    "version": 2
   },
   "file_extension": ".py",
   "mimetype": "text/x-python",
   "name": "python",
   "nbconvert_exporter": "python",
   "pygments_lexer": "ipython2",
   "version": "2.7.6"
  }
 },
 "nbformat": 4,
 "nbformat_minor": 5
}
